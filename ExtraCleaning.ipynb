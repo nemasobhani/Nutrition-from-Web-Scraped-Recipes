{
 "cells": [
  {
   "cell_type": "code",
   "execution_count": 248,
   "metadata": {},
   "outputs": [],
   "source": [
    "import numpy as np\n",
    "import pandas as pd\n",
    "from os import path\n",
    "from PIL import Image\n",
    "from wordcloud import WordCloud, STOPWORDS, ImageColorGenerator\n",
    "\n",
    "import matplotlib.pyplot as plt\n",
    "%matplotlib inline\n",
    "\n",
    "import nltk\n",
    "import regex as re\n",
    "# import requests\n",
    "# import ast\n",
    "# from bs4 import BeautifulSoup as bsoup\n",
    "\n",
    "#so I can get sounds to play\n",
    "from IPython.display import Audio\n",
    "wave = np.sin(2*np.pi*400*np.arange(10000*2)/10000)\n",
    "#So I can see multiple outputs\n",
    "from IPython.core.interactiveshell import InteractiveShell\n",
    "InteractiveShell.ast_node_interactivity = \"all\""
   ]
  },
  {
   "cell_type": "code",
   "execution_count": 298,
   "metadata": {},
   "outputs": [],
   "source": [
    "df = pd.read_csv('recipe_output_new.csv', names = range(80), sep = \",\", quotechar = '\"', skipinitialspace=True, error_bad_lines = False, dtype=object, index_col=False)\n",
    "df.rename(columns={0: 'Link', 1: 'Title', 2: 'TotalTime'}, inplace=True)"
   ]
  },
  {
   "cell_type": "code",
   "execution_count": 333,
   "metadata": {},
   "outputs": [
    {
     "data": {
      "text/plain": [
       "133648"
      ]
     },
     "execution_count": 333,
     "metadata": {},
     "output_type": "execute_result"
    },
    {
     "data": {
      "text/html": [
       "<div>\n",
       "<style scoped>\n",
       "    .dataframe tbody tr th:only-of-type {\n",
       "        vertical-align: middle;\n",
       "    }\n",
       "\n",
       "    .dataframe tbody tr th {\n",
       "        vertical-align: top;\n",
       "    }\n",
       "\n",
       "    .dataframe thead th {\n",
       "        text-align: right;\n",
       "    }\n",
       "</style>\n",
       "<table border=\"1\" class=\"dataframe\">\n",
       "  <thead>\n",
       "    <tr style=\"text-align: right;\">\n",
       "      <th></th>\n",
       "      <th>Website</th>\n",
       "      <th>Link</th>\n",
       "      <th>Title</th>\n",
       "      <th>TotalTime</th>\n",
       "      <th>3</th>\n",
       "      <th>4</th>\n",
       "      <th>5</th>\n",
       "      <th>6</th>\n",
       "      <th>7</th>\n",
       "      <th>8</th>\n",
       "      <th>...</th>\n",
       "      <th>70</th>\n",
       "      <th>71</th>\n",
       "      <th>72</th>\n",
       "      <th>73</th>\n",
       "      <th>74</th>\n",
       "      <th>75</th>\n",
       "      <th>76</th>\n",
       "      <th>77</th>\n",
       "      <th>78</th>\n",
       "      <th>79</th>\n",
       "    </tr>\n",
       "  </thead>\n",
       "  <tbody>\n",
       "    <tr>\n",
       "      <th>133661</th>\n",
       "      <td>bonappetit</td>\n",
       "      <td>https://www.bonappetit.com/recipe/watermelon-g...</td>\n",
       "      <td>Watermelon Gazpacho with Feta Crema</td>\n",
       "      <td>0</td>\n",
       "      <td>1 pound seedless watermelon, rind removed, coa...</td>\n",
       "      <td>1 large beefsteak tomato, coarsely chopped</td>\n",
       "      <td>1 English hothouse cucumber, peeled, coarsely ...</td>\n",
       "      <td>1 jalapeño, seeds removed, sliced</td>\n",
       "      <td>2 tablespoons olive oil</td>\n",
       "      <td>2 tablespoons Sherry vinegar or red wine vinegar</td>\n",
       "      <td>...</td>\n",
       "      <td>NaN</td>\n",
       "      <td>NaN</td>\n",
       "      <td>NaN</td>\n",
       "      <td>NaN</td>\n",
       "      <td>NaN</td>\n",
       "      <td>NaN</td>\n",
       "      <td>NaN</td>\n",
       "      <td>NaN</td>\n",
       "      <td>NaN</td>\n",
       "      <td>NaN</td>\n",
       "    </tr>\n",
       "    <tr>\n",
       "      <th>133662</th>\n",
       "      <td>epicurious</td>\n",
       "      <td>https://www.epicurious.com/recipes/food/views/...</td>\n",
       "      <td>Barbecue Pork Kebabs With Blistered-Chile–Pump...</td>\n",
       "      <td>0</td>\n",
       "      <td>1/4 large white onion</td>\n",
       "      <td>2 jalapeños</td>\n",
       "      <td>1/4 cup chopped cilantro</td>\n",
       "      <td>1/4 cup finely chopped unsalted, roasted pumpk...</td>\n",
       "      <td>1/4 cup olive oil</td>\n",
       "      <td>3 tablespoons fresh lime juice</td>\n",
       "      <td>...</td>\n",
       "      <td>NaN</td>\n",
       "      <td>NaN</td>\n",
       "      <td>NaN</td>\n",
       "      <td>NaN</td>\n",
       "      <td>NaN</td>\n",
       "      <td>NaN</td>\n",
       "      <td>NaN</td>\n",
       "      <td>NaN</td>\n",
       "      <td>NaN</td>\n",
       "      <td>NaN</td>\n",
       "    </tr>\n",
       "    <tr>\n",
       "      <th>133663</th>\n",
       "      <td>epicurious</td>\n",
       "      <td>https://www.epicurious.com/recipes/food/views/...</td>\n",
       "      <td>Brochette de Lapin aux Pruneaux</td>\n",
       "      <td>0</td>\n",
       "      <td>1 rabbit, divided into 2 legs, 2 loins, and 2 ...</td>\n",
       "      <td>4 slices bacon, cut into 3 pieces each</td>\n",
       "      <td>12 pitted prunes</td>\n",
       "      <td>1 red onion, cut into 12 pieces</td>\n",
       "      <td>2 tablespoons olive oil</td>\n",
       "      <td>1 teaspoon salt</td>\n",
       "      <td>...</td>\n",
       "      <td>NaN</td>\n",
       "      <td>NaN</td>\n",
       "      <td>NaN</td>\n",
       "      <td>NaN</td>\n",
       "      <td>NaN</td>\n",
       "      <td>NaN</td>\n",
       "      <td>NaN</td>\n",
       "      <td>NaN</td>\n",
       "      <td>NaN</td>\n",
       "      <td>NaN</td>\n",
       "    </tr>\n",
       "    <tr>\n",
       "      <th>133664</th>\n",
       "      <td>epicurious</td>\n",
       "      <td>https://www.epicurious.com/recipes/food/views/...</td>\n",
       "      <td>Patatine e Carciofi Arrosto roasted Potatoes a...</td>\n",
       "      <td>0</td>\n",
       "      <td>1 tablespoon finely grated fresh lemon zest</td>\n",
       "      <td>3 tablespoons finely chopped fresh flat-leafed...</td>\n",
       "      <td>2 teaspoons minced garlic</td>\n",
       "      <td>2 pounds red potatoes (about 1 1/2 inches in d...</td>\n",
       "      <td>6 tablespoons extra-virgin olive oil</td>\n",
       "      <td>freshly ground black pepper</td>\n",
       "      <td>...</td>\n",
       "      <td>NaN</td>\n",
       "      <td>NaN</td>\n",
       "      <td>NaN</td>\n",
       "      <td>NaN</td>\n",
       "      <td>NaN</td>\n",
       "      <td>NaN</td>\n",
       "      <td>NaN</td>\n",
       "      <td>NaN</td>\n",
       "      <td>NaN</td>\n",
       "      <td>NaN</td>\n",
       "    </tr>\n",
       "    <tr>\n",
       "      <th>133665</th>\n",
       "      <td>epicurious</td>\n",
       "      <td>https://www.epicurious.com/recipes/food/views/...</td>\n",
       "      <td>Salmon Cakes With Arugula Salad</td>\n",
       "      <td>0</td>\n",
       "      <td>20 ounces canned skinless, boneless pink salmon</td>\n",
       "      <td>1/4 cup whole-wheat panko breadcrumbs</td>\n",
       "      <td>2 tbsp plus 1 1/2 tsp grainy mustard, divided</td>\n",
       "      <td>2 tbsp light mayonnaise</td>\n",
       "      <td>1½ tbsp chopped dill, divided</td>\n",
       "      <td>1 tbsp plus 1/2 teaspoon finely chopped shallot</td>\n",
       "      <td>...</td>\n",
       "      <td>NaN</td>\n",
       "      <td>NaN</td>\n",
       "      <td>NaN</td>\n",
       "      <td>NaN</td>\n",
       "      <td>NaN</td>\n",
       "      <td>NaN</td>\n",
       "      <td>NaN</td>\n",
       "      <td>NaN</td>\n",
       "      <td>NaN</td>\n",
       "      <td>NaN</td>\n",
       "    </tr>\n",
       "  </tbody>\n",
       "</table>\n",
       "<p>5 rows × 81 columns</p>\n",
       "</div>"
      ],
      "text/plain": [
       "           Website                                               Link  \\\n",
       "133661  bonappetit  https://www.bonappetit.com/recipe/watermelon-g...   \n",
       "133662  epicurious  https://www.epicurious.com/recipes/food/views/...   \n",
       "133663  epicurious  https://www.epicurious.com/recipes/food/views/...   \n",
       "133664  epicurious  https://www.epicurious.com/recipes/food/views/...   \n",
       "133665  epicurious  https://www.epicurious.com/recipes/food/views/...   \n",
       "\n",
       "                                                    Title TotalTime  \\\n",
       "133661                Watermelon Gazpacho with Feta Crema         0   \n",
       "133662  Barbecue Pork Kebabs With Blistered-Chile–Pump...         0   \n",
       "133663                   Brochette de Lapin aux Pruneaux          0   \n",
       "133664  Patatine e Carciofi Arrosto roasted Potatoes a...         0   \n",
       "133665                   Salmon Cakes With Arugula Salad          0   \n",
       "\n",
       "                                                        3  \\\n",
       "133661  1 pound seedless watermelon, rind removed, coa...   \n",
       "133662                              1/4 large white onion   \n",
       "133663  1 rabbit, divided into 2 legs, 2 loins, and 2 ...   \n",
       "133664        1 tablespoon finely grated fresh lemon zest   \n",
       "133665    20 ounces canned skinless, boneless pink salmon   \n",
       "\n",
       "                                                        4  \\\n",
       "133661         1 large beefsteak tomato, coarsely chopped   \n",
       "133662                                        2 jalapeños   \n",
       "133663             4 slices bacon, cut into 3 pieces each   \n",
       "133664  3 tablespoons finely chopped fresh flat-leafed...   \n",
       "133665              1/4 cup whole-wheat panko breadcrumbs   \n",
       "\n",
       "                                                        5  \\\n",
       "133661  1 English hothouse cucumber, peeled, coarsely ...   \n",
       "133662                           1/4 cup chopped cilantro   \n",
       "133663                                   12 pitted prunes   \n",
       "133664                          2 teaspoons minced garlic   \n",
       "133665      2 tbsp plus 1 1/2 tsp grainy mustard, divided   \n",
       "\n",
       "                                                        6  \\\n",
       "133661                  1 jalapeño, seeds removed, sliced   \n",
       "133662  1/4 cup finely chopped unsalted, roasted pumpk...   \n",
       "133663                    1 red onion, cut into 12 pieces   \n",
       "133664  2 pounds red potatoes (about 1 1/2 inches in d...   \n",
       "133665                            2 tbsp light mayonnaise   \n",
       "\n",
       "                                           7  \\\n",
       "133661               2 tablespoons olive oil   \n",
       "133662                     1/4 cup olive oil   \n",
       "133663               2 tablespoons olive oil   \n",
       "133664  6 tablespoons extra-virgin olive oil   \n",
       "133665         1½ tbsp chopped dill, divided   \n",
       "\n",
       "                                                       8  ...   70   71   72  \\\n",
       "133661  2 tablespoons Sherry vinegar or red wine vinegar  ...  NaN  NaN  NaN   \n",
       "133662                    3 tablespoons fresh lime juice  ...  NaN  NaN  NaN   \n",
       "133663                                   1 teaspoon salt  ...  NaN  NaN  NaN   \n",
       "133664                       freshly ground black pepper  ...  NaN  NaN  NaN   \n",
       "133665   1 tbsp plus 1/2 teaspoon finely chopped shallot  ...  NaN  NaN  NaN   \n",
       "\n",
       "         73   74   75   76   77   78   79  \n",
       "133661  NaN  NaN  NaN  NaN  NaN  NaN  NaN  \n",
       "133662  NaN  NaN  NaN  NaN  NaN  NaN  NaN  \n",
       "133663  NaN  NaN  NaN  NaN  NaN  NaN  NaN  \n",
       "133664  NaN  NaN  NaN  NaN  NaN  NaN  NaN  \n",
       "133665  NaN  NaN  NaN  NaN  NaN  NaN  NaN  \n",
       "\n",
       "[5 rows x 81 columns]"
      ]
     },
     "execution_count": 333,
     "metadata": {},
     "output_type": "execute_result"
    }
   ],
   "source": [
    "len(df)\n",
    "df.tail(5)"
   ]
  },
  {
   "cell_type": "code",
   "execution_count": 300,
   "metadata": {},
   "outputs": [],
   "source": [
    "df.loc[:,'Website'] = pd.np.nan"
   ]
  },
  {
   "cell_type": "code",
   "execution_count": 301,
   "metadata": {},
   "outputs": [],
   "source": [
    "#Move website to front\n",
    "cols = df.columns.tolist()\n",
    "cols = cols[-1:] + cols[:-1]\n",
    "df = df[cols]"
   ]
  },
  {
   "cell_type": "code",
   "execution_count": 302,
   "metadata": {},
   "outputs": [],
   "source": [
    "p1 = re.compile(\"(://www.)+?([^.]+)\")\n",
    "p2 = re.compile(\"(://)+?([^.]+)\")\n",
    "text1 = 'https://www.bonappetit.com/recipe/strawberry-i...'\n",
    "text2 = 'https://tastykitchen.com/recipes/appetizers-an...'\n",
    "    \n",
    "def f(x):\n",
    "    s =  p1.search(x)\n",
    "    if pd.isnull(s):\n",
    "        s =  p2.search(x)\n",
    "        if pd.isnull(s):\n",
    "            return pd.np.nan\n",
    "        else:\n",
    "            return s.group(2)\n",
    "    else:\n",
    "        return s.group(2)\n",
    "\n",
    "df.loc[:,'Website'] = df['Link'].map(f)"
   ]
  },
  {
   "cell_type": "code",
   "execution_count": 330,
   "metadata": {},
   "outputs": [
    {
     "data": {
      "text/plain": [
       "Website        0\n",
       "Link           0\n",
       "Title        976\n",
       "TotalTime      1\n",
       "dtype: int64"
      ]
     },
     "execution_count": 330,
     "metadata": {},
     "output_type": "execute_result"
    },
    {
     "data": {
      "text/html": [
       "<div>\n",
       "<style scoped>\n",
       "    .dataframe tbody tr th:only-of-type {\n",
       "        vertical-align: middle;\n",
       "    }\n",
       "\n",
       "    .dataframe tbody tr th {\n",
       "        vertical-align: top;\n",
       "    }\n",
       "\n",
       "    .dataframe thead th {\n",
       "        text-align: right;\n",
       "    }\n",
       "</style>\n",
       "<table border=\"1\" class=\"dataframe\">\n",
       "  <thead>\n",
       "    <tr style=\"text-align: right;\">\n",
       "      <th></th>\n",
       "      <th>Website</th>\n",
       "      <th>Link</th>\n",
       "      <th>Title</th>\n",
       "      <th>TotalTime</th>\n",
       "      <th>3</th>\n",
       "      <th>4</th>\n",
       "      <th>5</th>\n",
       "      <th>6</th>\n",
       "      <th>7</th>\n",
       "      <th>8</th>\n",
       "      <th>...</th>\n",
       "      <th>70</th>\n",
       "      <th>71</th>\n",
       "      <th>72</th>\n",
       "      <th>73</th>\n",
       "      <th>74</th>\n",
       "      <th>75</th>\n",
       "      <th>76</th>\n",
       "      <th>77</th>\n",
       "      <th>78</th>\n",
       "      <th>79</th>\n",
       "    </tr>\n",
       "  </thead>\n",
       "  <tbody>\n",
       "  </tbody>\n",
       "</table>\n",
       "<p>0 rows × 81 columns</p>\n",
       "</div>"
      ],
      "text/plain": [
       "Empty DataFrame\n",
       "Columns: [Website, Link, Title, TotalTime, 3, 4, 5, 6, 7, 8, 9, 10, 11, 12, 13, 14, 15, 16, 17, 18, 19, 20, 21, 22, 23, 24, 25, 26, 27, 28, 29, 30, 31, 32, 33, 34, 35, 36, 37, 38, 39, 40, 41, 42, 43, 44, 45, 46, 47, 48, 49, 50, 51, 52, 53, 54, 55, 56, 57, 58, 59, 60, 61, 62, 63, 64, 65, 66, 67, 68, 69, 70, 71, 72, 73, 74, 75, 76, 77, 78, 79]\n",
       "Index: []\n",
       "\n",
       "[0 rows x 81 columns]"
      ]
     },
     "execution_count": 330,
     "metadata": {},
     "output_type": "execute_result"
    }
   ],
   "source": [
    "df.iloc[:,0:4].isna().sum()\n",
    "df[df.Website.isna()]"
   ]
  },
  {
   "cell_type": "code",
   "execution_count": 329,
   "metadata": {
    "scrolled": true
   },
   "outputs": [],
   "source": [
    "# num = 73190\n",
    "# # df.iloc[num-1:num+2,:5]\n",
    "# new = pd.Series([pd.np.nan])\n",
    "# new = new.append(df.iloc[(num),:-1])\n",
    "# df.append(new, ignore_index=True)\n",
    "df.drop(index = [ 73190,  73191,  73192,  73193,  73194,  73195,  73196,  73388, 73389,  73390,  73391,  73392,  73393,  73394,  73395,  90028, 123403, 123404], inplace = True)\n",
    "# df = df.reset_index(drop=True)\n",
    "# df.iloc[num-1:num+2,:5]\n",
    "# df[df.Website.isna()]\n",
    "# df.append(df.iloc[[ 73190,  73191,  73192,  73193,  73194,  73195,  73196,  73388,\n",
    "#              73389,  73390,  73391,  73392,  73393,  73394,  73395,  90028,\n",
    "#             123403, 123404]].shift(1, axis=1))\n"
   ]
  },
  {
   "cell_type": "code",
   "execution_count": null,
   "metadata": {},
   "outputs": [],
   "source": [
    "num = 9931\n",
    "df.iloc[(num-4):(num+3),0:18]\n",
    "# df[df[\"Recipe\"].str.contains('Hake')]\n",
    "df.iloc[num-4]\n",
    "# df.loc[num]"
   ]
  },
  {
   "cell_type": "markdown",
   "metadata": {},
   "source": [
    "num = 5459\n",
    "df.iloc[num-1:num+2,:5]\n",
    "new = pd.Series([pd.np.nan, 'https://www.bonappetit.com/recipe/brined-and-roasted-rosemary-chile-almonds',\"Brined and Roasted Rosemary-Chile Almonds\"])\n",
    "new = new.append(df.iloc[(num),2:-1])\n",
    "df.append(new, ignore_index=True)\n",
    "df.drop(index = num, inplace = True)\n",
    "df = df.reset_index(drop=True)\n",
    "df[df.Website.isna()]"
   ]
  },
  {
   "cell_type": "markdown",
   "metadata": {},
   "source": [
    "num = 9069\n",
    "df.iloc[num-1:num+2,:5]\n",
    "new = pd.Series(['bonappetit', 'https://www.bonappetit.com/recipe/noodle-salad-with-chicken-and-chile-scallion-oil',\"Noodle Salad with Chicken and Chile-Scallion Oil\",0])\n",
    "new = new.append(df.iloc[(num),2:-4])\n",
    "new = new[~new.index.duplicated()]\n",
    "df.append(new, ignore_index=True)\n",
    "df.drop(index = num, inplace = True)\n",
    "df = df.reset_index(drop=True)\n",
    "df[df.Website.isna()]"
   ]
  },
  {
   "cell_type": "markdown",
   "metadata": {},
   "source": [
    "num = 9260\n",
    "df.iloc[num-1:num+2,:5]\n",
    "new = pd.Series(['bonappetit', 'https://www.bonappetit.com/recipe/pan-seared-hake-with-kale-and-chorizo',\"Pan-Seared Hake with Kale and Chorizo\",0], name = range(80))\n",
    "new = new.append(df.iloc[(num),3:-4])\n",
    "new = new[~new.index.duplicated()]\n",
    "df.append(new, ignore_index=True)\n",
    "df.drop(index = (num), inplace = True)\n",
    "df = df.reset_index(drop=True)\n",
    "df[df.Website.isna()]"
   ]
  },
  {
   "cell_type": "markdown",
   "metadata": {},
   "source": [
    "num = 9928\n",
    "df.iloc[num-1:num+2,:5]\n",
    "new = pd.Series(['bonappetit', 'https://www.bonappetit.com/recipe/radicchio-fennel-and-olive-panzanella',\"Radicchio, Fennel, and Olive Panzanella\",0], name = range(80))\n",
    "new = new.append(df.iloc[(num-2),3:-4])\n",
    "new = new[~new.index.duplicated()]\n",
    "df.append(new, ignore_index=True)\n",
    "df.drop(index = (num), inplace = True)\n",
    "df = df.reset_index(drop=True)\n",
    "df[df.Website.isna()]"
   ]
  },
  {
   "cell_type": "markdown",
   "metadata": {},
   "source": [
    "num = 10559\n",
    "df.iloc[num-1:num+2,:5]\n",
    "new = pd.Series(['bonappetit', 'https://www.bonappetit.com/recipe/sausage-and-broccoli-rabe-frittata',\"Sausage and Broccoli Rabe Frittata\",0])\n",
    "new = new.append(df.iloc[(num),3:-4])\n",
    "new = new[~new.index.duplicated()]\n",
    "df.append(new, ignore_index=True)\n",
    "df.drop(index = (num), inplace = True)\n",
    "df = df.reset_index(drop=True)\n",
    "df[df.Website.isna()]"
   ]
  },
  {
   "cell_type": "markdown",
   "metadata": {},
   "source": [
    "num = 10748\n",
    "df.iloc[num-1:num+2,:5]\n",
    "new = pd.Series(['bonappetit', 'https://www.bonappetit.com/recipe/shaved-honeydew-fennel-and-olive-salad',\"Shaved Honeydew, Fennel, and Olive Salad\",0])\n",
    "new = new.append(df.iloc[(num),3:-4])\n",
    "new = new[~new.index.duplicated()]\n",
    "df.append(new, ignore_index=True)\n",
    "df.drop(index = (num), inplace = True)\n",
    "df = df.reset_index(drop=True)\n",
    "df[df.Website.isna()]"
   ]
  },
  {
   "cell_type": "markdown",
   "metadata": {},
   "source": [
    "num = 11193\n",
    "df.iloc[num-1:num+2,:5]\n",
    "new = pd.Series(['bonappetit', 'https://www.bonappetit.com/recipe/spiced-fava-bean-soup-with-rice-and-tomato',\"Spiced Fava Bean Soup with Rice and Tomato\",0])\n",
    "new = new.append(df.iloc[(num),3:-4])\n",
    "new = new[~new.index.duplicated()]\n",
    "df.append(new, ignore_index=True)\n",
    "df.drop(index = (num), inplace = True)\n",
    "df = df.reset_index(drop=True)\n",
    "df[df.Website.isna()]"
   ]
  },
  {
   "cell_type": "code",
   "execution_count": 334,
   "metadata": {},
   "outputs": [],
   "source": [
    "df.to_csv(path_or_buf = f'recipe_overclean.csv', header = False, index = False)\n"
   ]
  },
  {
   "cell_type": "code",
   "execution_count": null,
   "metadata": {},
   "outputs": [],
   "source": [
    "#concat text by rows grouped by \n",
    "ingredients = df.groupby('Website').agg(lambda x: ', '.join(x.astype(str)))\n",
    "ingredients = ingredients[['Title', 4,5,6,7,8,9,10,11,12,13,14,15,16,17,18,19,20,21,22,23,24,25,26,27,28,29,30,31,32,33,34,35,36,37,38,39,40,41,42,43,44,45,46,47,48,49,50,51,52,53,54,55,56,57,58,59,60,61,62,63,64,65,66,67,68,69,70,71,72,73,74,75,76,77,78,79]]"
   ]
  },
  {
   "cell_type": "code",
   "execution_count": null,
   "metadata": {},
   "outputs": [],
   "source": [
    "ingredients.loc[:,'AggIngredients'] = ingredients[[4,5,6,7,8,9,10,11,12,13,14,15,16,17,18,19,20,21,22,23,24,25,26,27,28,29,30,31,32,33,34,35,36,37,38,39,40,41,42,43,44,45,46,47,48,49,50,51,52,53,54,55,56,57,58,59,60,61,62,63,64,65,66,67,68,69,70,71,72,73,74,75,76,77,78,79]].astype(str).apply(' '.join, axis=1)\n"
   ]
  },
  {
   "cell_type": "code",
   "execution_count": null,
   "metadata": {},
   "outputs": [],
   "source": [
    "ingredients = ingredients[['Title','AggIngredients']]"
   ]
  },
  {
   "cell_type": "code",
   "execution_count": null,
   "metadata": {},
   "outputs": [],
   "source": [
    "ingredients.to_csv(path_or_buf = f'ingredients_agg.csv')"
   ]
  }
 ],
 "metadata": {
  "kernelspec": {
   "display_name": "Python 3",
   "language": "python",
   "name": "python3"
  },
  "language_info": {
   "codemirror_mode": {
    "name": "ipython",
    "version": 3
   },
   "file_extension": ".py",
   "mimetype": "text/x-python",
   "name": "python",
   "nbconvert_exporter": "python",
   "pygments_lexer": "ipython3",
   "version": "3.7.2"
  }
 },
 "nbformat": 4,
 "nbformat_minor": 2
}
