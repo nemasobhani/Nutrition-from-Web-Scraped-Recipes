{
 "cells": [
  {
   "cell_type": "markdown",
   "metadata": {},
   "source": [
    "# Nutrition from Web-Scraped Recipes\n",
    "### Nema Sobhani and Naomi Goodnight\n",
    "#### Data Science Tools I: Final Project, Winter 2019"
   ]
  },
  {
   "cell_type": "markdown",
   "metadata": {},
   "source": [
    "## Dataset and Motivation"
   ]
  },
  {
   "cell_type": "markdown",
   "metadata": {},
   "source": [
    "**How**\n",
    "This data set was collected from web scraping a selection of online cooking websites and associating their ingredients with nutrition data from the USDA's Nutrient Data Library.\n",
    "\n",
    "**Why**\n",
    "We thought that this project presented a pop-culture focus, demonstrated some proof-of-concept potential in nutritional health and research, and was both challenging and fun.\n",
    "\n",
    "**Meta Data**\n",
    "- Scraped Data\n",
    "    -\n",
    "\n",
    "- USDA Nutrition Data \n",
    "    - These data contained most major food items in the American diet, along with common nutrition markers and experimental/analytic data.\n",
    "    - Typical attributes include:\n",
    "        - Food group\n",
    "        - Name\n",
    "        - Preparation\n",
    "        - Nutrient data / 100 grams (Calories, Protein, Carbs, Fat, etc.)\n",
    "        \n"
   ]
  },
  {
   "cell_type": "markdown",
   "metadata": {},
   "source": [
    "## Task Definition/Research Question"
   ]
  },
  {
   "cell_type": "markdown",
   "metadata": {},
   "source": [
    "For culinary websites looking to capture someone who shifts away from prepackaged foods with clearly-labeled nutritional content, especially with cook-it-yourself meal-delivery services growing in popularity, the need to appeal to home-cooking has created demand to provide nutritional content to consumers. \n",
    "\n",
    "To close these gaps, **we developed an automated process to return nutritional information from an input of raw web scraped recipe data**. This would allow websites to update their entire catalog of recipes to include nutritional data from the USDA and offer a significant advantage in the growing market for home cooking. \n",
    "\n",
    "This would also allow the website to conduct broad surveys of tendencies in nutritional content, ingredient frequencies, and health trends. \n",
    "\n",
    "<br>\n",
    "  \n",
    "**Future Directions**  \n",
    "As we enter our next phase, there are several areas of interest that could be incorporated into our project to both increase its accuracy and widen it's scope. One focus would be to scrape more attributes, particularly location data and insights into ethnic cuisine. Incorporating machine learning techniques would offer the ability to create generic grocery lists based on a unique profile of a site. Natural language processing could be leveraged to more accurately determine the ingredients based on n-gram frequency. Visualizing popular recipes and ingredients by site, using word clouds, offers a custom representation of a website's culinary focus and sytle which carries innate marketing value."
   ]
  },
  {
   "cell_type": "markdown",
   "metadata": {},
   "source": [
    "## Literature Review"
   ]
  },
  {
   "cell_type": "markdown",
   "metadata": {},
   "source": [
    "There are two other technologies in this field, both of which compete in separate domains from our feature.\n",
    "\n",
    "Mobile applications such as \"MyFitnessPal\" are consumer level calories-counting.\n",
    "\n",
    "Apps calorie counters\n",
    "-consumer oriented\n",
    "-we're producer oriented\n",
    "-prevent them from having to look it up (lower the manual burden)\n",
    "\n",
    "Kaggle Yummly\n",
    "-through API\n",
    "-Clean / 1 site only\n",
    "-Ours can handle complete raw approach from html start to Finnish"
   ]
  },
  {
   "cell_type": "markdown",
   "metadata": {},
   "source": [
    "## Quality of Cleaning"
   ]
  },
  {
   "cell_type": "markdown",
   "metadata": {},
   "source": []
  },
  {
   "cell_type": "markdown",
   "metadata": {},
   "source": [
    "## Visualization"
   ]
  },
  {
   "cell_type": "markdown",
   "metadata": {},
   "source": []
  }
 ],
 "metadata": {
  "kernelspec": {
   "display_name": "Python 3",
   "language": "python",
   "name": "python3"
  },
  "language_info": {
   "codemirror_mode": {
    "name": "ipython",
    "version": 3
   },
   "file_extension": ".py",
   "mimetype": "text/x-python",
   "name": "python",
   "nbconvert_exporter": "python",
   "pygments_lexer": "ipython3",
   "version": "3.7.0"
  }
 },
 "nbformat": 4,
 "nbformat_minor": 2
}
