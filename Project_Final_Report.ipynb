{
 "cells": [
  {
   "cell_type": "markdown",
   "metadata": {},
   "source": [
    "# Nutrition from Web-Scraped Recipes\n",
    "### Nema Sobhani and Naomi Goodnight\n",
    "#### Data Science Tools I: Final Project, Winter 2019"
   ]
  },
  {
   "cell_type": "markdown",
   "metadata": {},
   "source": [
    "## Dataset and Motivation"
   ]
  },
  {
   "cell_type": "markdown",
   "metadata": {},
   "source": [
    "**How**  \n",
    "This data set was collected from web scraping a selection of online cooking websites and associating their ingredients with nutrition data from the USDA's Nutrient Data Library.\n",
    "\n",
    "**Why**  \n",
    "We thought that this project demonstrated some proof-of-concept potential in nutritional health and research, presented a pop-culture focus, and was both challenging and fun.\n",
    "\n",
    "**Meta Data**\n",
    "- Scraped Data\n",
    "    - This dataset started its life on various recipe database websites.  Through webscraper code, utilizing BeautifulSoup and open source code as a base, the initial csv of 155,876 lines listed the url, recipe title, total time, and each ingredient as a separate column.  Recipe titles or ingredients which internally contained commas were surrounded by double quotes.  However, as a result of the data's orgin on websites, significant data cleaning was needed.\n",
    "\n",
    "- USDA Nutrition Data \n",
    "    - These internally consistent data files contained most major food items in the American diet, along with common nutrition markers and experimental/analytic data.\n",
    "    - Typical attributes include:\n",
    "        - Food group\n",
    "        - Name\n",
    "        - Preparation\n",
    "        - Nutrient data / 100 grams (Calories, Protein, Carbs, Fat, etc.)\n",
    "        \n"
   ]
  },
  {
   "cell_type": "markdown",
   "metadata": {},
   "source": [
    "## Task Definition/Research Question"
   ]
  },
  {
   "cell_type": "markdown",
   "metadata": {},
   "source": [
    "For culinary websites looking to capture someone who shifts away from prepackaged foods with clearly-labeled nutritional content, especially with cook-it-yourself meal-delivery services growing in popularity, the need to appeal to home-cooking has created demand to provide nutritional content to consumers. \n",
    "\n",
    "To close these gaps, **we developed an automated process to return nutritional information from an input of raw web scraped recipe data**. This would allow websites to update their entire catalog of recipes to include nutritional data from the USDA and offer a significant advantage in the growing market for home cooking. \n",
    "\n",
    "This would also allow the website to conduct broad surveys of tendencies in nutritional content, ingredient frequencies, and health trends. \n",
    "\n",
    "<br>\n",
    "  \n",
    "**Future Directions**  \n",
    "As we enter our next phase, there are several areas of interest that could be incorporated into our project to both increase its accuracy and widen its scope. One focus would be to scrape more attributes, particularly location data, insights into ethnic cuisine and serving size. Incorporating machine learning techniques would offer the ability to create generic grocery lists based on a unique profile of a site. Natural language processing could be leveraged to more accurately determine the ingredients based on n-gram frequency. Visualizing popular recipes and ingredients by site, using word clouds, offers a custom representation of a website's culinary focus and style which carries innate marketing value."
   ]
  },
  {
   "cell_type": "markdown",
   "metadata": {},
   "source": [
    "## Literature Review"
   ]
  },
  {
   "cell_type": "markdown",
   "metadata": {},
   "source": [
    "**Fitness Trackers**  \n",
    "Mobile applications such as [\"MyFitnessPal\"](https://www.myfitnesspal.com/) are consumer level calorie-counting applications that require manual input of food items in order to retrieve nutritional data. Our application is distinct from these, since it is geared towards producers (food websites) it does not require any input from consumers. Our program would be ideal for recipe websites as it could be developed to interface with fitness apps and transfer all nutritional information to the user, removing the need for manual entry. \n",
    "\n",
    "\n",
    "**Geographic/Cultural Food Association**  \n",
    "There is a [**_Kaggle_** competition](https://www.kaggle.com/c/whats-cooking) in which a list of ingredients, provided via [**_Yummly_**](https://www.yummly.com), is used to predict the ethnicity of that dish. This is similar to some of the word matching and recognition done in  our project, but they differ in that the competition criteria  has a machine learning bent, to determine the ethnic origin of a dish using keywords. Our project focused on actual matching of the ingredients to the USDA nutrition database in order to extract nutritional content. Beyond this, the Kaggle competition used thoroughly cleaned data from only one site through an API. Ours is intended to be used with almost any recipe website and handle raw html data and return nutrition data.  "
   ]
  },
  {
   "cell_type": "markdown",
   "metadata": {},
   "source": [
    "## Quality of Cleaning"
   ]
  },
  {
   "cell_type": "markdown",
   "metadata": {},
   "source": [
    "### 1. Web Scraping\n",
    "\n",
    "**Web Scraping**\n",
    "The initial webscraping origin began from <i>BS.py</i>.  This program went to the search page of several promient recipe website search pages (e.g., [Epicurious](https://www.epicurious.com/search?content=recipe)) and scraped the links of each recipe and saved the resultant links in a file.  The second stage webscraper, <i>RScrape.py</i>, utilized additional open source code, [recipe_scrapers](https://github.com/hhursev/recipe-scrapers).  The data from this stage was saved in the 150k+ csv file, <i>recipe_output.csv</i>.  Several fields included an internal comma and were thus surrounded by double quotes.  Future interations would either surround all fields with double quotes or use a unique field separator as the variability caused complexity in later phases.  An example line follows:\n",
    " - http://bbc.co.uk/food/recipes/awarmsaladofasparagu_67967,\"A warm salad of asparagus, field mushrooms and fresh peas\",30,\"20 medium asparagus spears, trimmed and peeled\",\"175g/6oz shelled young peas\",\"4 tbsp extra virgin olive oil\",\"1 clove garlic, mashed to a paste with a little salt\",\"8 small field mushrooms, stalks removed and peeled\",\"salt and ground black pepper\",\"1 ciabatta loaf, cut into two horizontally then in two from top to bottom\",\"1 shallot, finely chopped\",\"3 tbsp dry vermouth\",\"55g/2oz unsalted butter, cubed\",\"1 tbsp chopped flat-leaf parsley\",\"1 tbsp snipped chives\",\"1 tsp chopped tarragon\",\"1 tbsp freshly squeezed lemon juice\",\"30g/1oz each rocket and watercress leaves\",\n",
    "\n",
    "**Data Cleaning**\n",
    "Once the web scraping was complete, the large task of cleaning the data remained.  This was done with a combination of bash scripting and python scripting (with and without pandas), _Cleaning.py_.  Several of the steps involved removal of data, on future iterations of this project more careful analysis would need to be done.  Examples of issues follow.\n",
    "\n",
    " - Lines without ingredients (likely a web scraper issue)\n",
    " - Duplicated lines (likely due to web scraper timeout and restart)\n",
    " - Lines with duplicate ingredients (website display issue)\n",
    " - Ingredient fields with instructions included\n",
    "   - \"6 medium red onions (about 7 ounces each), peeled, cut vertically into 6 wedges to within 1/2 inch of bottom\"\n",
    "   - \"4 cups any combination of fresh berries, picked over, washed, hulled, if necessary, and drained until dry, and/or cut-up peeled fresh fruit, divided (1 1/2 cups and 2 1/2 cups), (Note: try blueberries and peaches, or raspberries and nectarines, or blueberries and strawberries, or plums and peaches with Marionberries or huckleberries; do not peel plums, nectarines or pears)\"\n",
    "\n"
   ]
  },
  {
   "cell_type": "markdown",
   "metadata": {},
   "source": [
    "### 2. USDA Nutrition Retrieval\n",
    "**Data Cleaning / Transformation**  \n",
    "First, Raw scraped data is first split and all newlines and empty elements are removed. Second, each individual ingredient line is parsed to determine weight and quantity, using a mix of numeric parsing and keyword location for weight measurements (g, ml, tbsp, ounce, cup, etc). Third, the ingredient line is truncated to remove numerics, measurements, and stop words, which allows careful text matching in the USDA food description file. Fourth, a match is made to the USDA word description file, utilizing a heuristic to determine the ingredient similarity between both data sets.  Fifth, the USDA nutritional data file is accessed by food ID, where all data is retrieved (calories, protein, fat, carbs, etc).\n",
    "\n",
    "**Unusual Incidents**  \n",
    "There were many edge cases that come up in parsing numeric descriptors. Two, six and a half ounce steaks may be written in many ways. For example:\n",
    "- 2 6 1/2 ounce steaks\n",
    "- 2, 6½ ounce steaks\n",
    "- 2 6 ½ oz. steaks  \n",
    "\n",
    "Parsing this was tricky, and many edge cases were defined in order to handle unusual ascii unicode, as well as to parse between quantities and weights.  \n",
    "<br>\n",
    "Another error-prone issue that has come up regularly that we have not been able to fully control is mis-matching of food descriptions. We used the heuristic that states, **_\"the correct item is the one that (1) contains the highest number of word matches and (2) has the shortest character length if there is a tie.\"_**. This heuristic isn't always necessarily correct! Often there would be an incorrect match that satisfies the heuristic properties. For example, _\"1 clove of garlic\"_ may either match with _\"garlic, raw\"_ or _\"clove, spice\"_ in the USDA nutrition database, leading to a possible error.\n",
    "\n",
    "**Missing Values**  \n",
    "Due to the nature of the USDA nutritional data, if a value was not included, it means that it was not measured. These were stored in the dataframe as 'NaN' and were not included in analysis. If it was measured and it was 0, it was included.  "
   ]
  },
  {
   "cell_type": "markdown",
   "metadata": {},
   "source": [
    "## Stats and Interpretation"
   ]
  },
  {
   "cell_type": "markdown",
   "metadata": {},
   "source": [
    "### 1. Web Scraping"
   ]
  },
  {
   "cell_type": "code",
   "execution_count": 2,
   "metadata": {},
   "outputs": [
    {
     "ename": "ModuleNotFoundError",
     "evalue": "No module named 'NG_analysis'",
     "output_type": "error",
     "traceback": [
      "\u001b[0;31m---------------------------------------------------------------------------\u001b[0m",
      "\u001b[0;31mModuleNotFoundError\u001b[0m                       Traceback (most recent call last)",
      "\u001b[0;32m<ipython-input-2-a37a89f85c1d>\u001b[0m in \u001b[0;36m<module>\u001b[0;34m\u001b[0m\n\u001b[1;32m      1\u001b[0m \u001b[0;32mimport\u001b[0m \u001b[0mwarnings\u001b[0m\u001b[0;34m\u001b[0m\u001b[0;34m\u001b[0m\u001b[0m\n\u001b[1;32m      2\u001b[0m \u001b[0mwarnings\u001b[0m\u001b[0;34m.\u001b[0m\u001b[0mfilterwarnings\u001b[0m\u001b[0;34m(\u001b[0m\u001b[0maction\u001b[0m\u001b[0;34m=\u001b[0m\u001b[0;34m'once'\u001b[0m\u001b[0;34m)\u001b[0m\u001b[0;34m\u001b[0m\u001b[0;34m\u001b[0m\u001b[0m\n\u001b[0;32m----> 3\u001b[0;31m \u001b[0;32mfrom\u001b[0m \u001b[0mNG_analysis\u001b[0m \u001b[0;32mimport\u001b[0m \u001b[0;34m*\u001b[0m\u001b[0;34m\u001b[0m\u001b[0;34m\u001b[0m\u001b[0m\n\u001b[0m",
      "\u001b[0;31mModuleNotFoundError\u001b[0m: No module named 'NG_analysis'"
     ]
    }
   ],
   "source": [
    "import warnings\n",
    "warnings.filterwarnings(action='once')\n",
    "from NG_analysis import *"
   ]
  },
  {
   "cell_type": "markdown",
   "metadata": {},
   "source": [
    "### 2. USDA Nutrition"
   ]
  },
  {
   "cell_type": "code",
   "execution_count": 1,
   "metadata": {},
   "outputs": [
    {
     "data": {
      "text/html": [
       "<div>\n",
       "<style scoped>\n",
       "    .dataframe tbody tr th:only-of-type {\n",
       "        vertical-align: middle;\n",
       "    }\n",
       "\n",
       "    .dataframe tbody tr th {\n",
       "        vertical-align: top;\n",
       "    }\n",
       "\n",
       "    .dataframe thead th {\n",
       "        text-align: right;\n",
       "    }\n",
       "</style>\n",
       "<table border=\"1\" class=\"dataframe\">\n",
       "  <thead>\n",
       "    <tr style=\"text-align: right;\">\n",
       "      <th></th>\n",
       "      <th>Mean</th>\n",
       "      <th>Median</th>\n",
       "      <th>Max</th>\n",
       "      <th>Max Recipe</th>\n",
       "    </tr>\n",
       "    <tr>\n",
       "      <th>Nutrition</th>\n",
       "      <th></th>\n",
       "      <th></th>\n",
       "      <th></th>\n",
       "      <th></th>\n",
       "    </tr>\n",
       "  </thead>\n",
       "  <tbody>\n",
       "    <tr>\n",
       "      <th>Calories (kcal)</th>\n",
       "      <td>4681.8</td>\n",
       "      <td>3730.0</td>\n",
       "      <td>19546.2</td>\n",
       "      <td>Chocolate Oreo Whoopie Pies</td>\n",
       "    </tr>\n",
       "    <tr>\n",
       "      <th>Total Fat (g)</th>\n",
       "      <td>223.7</td>\n",
       "      <td>163.4</td>\n",
       "      <td>1065.6</td>\n",
       "      <td>Banana Bars</td>\n",
       "    </tr>\n",
       "    <tr>\n",
       "      <th>Saturated Fat (g)</th>\n",
       "      <td>85.1</td>\n",
       "      <td>53.6</td>\n",
       "      <td>461.5</td>\n",
       "      <td>Bubble and Squeak with Sausages and Onion Gravy</td>\n",
       "    </tr>\n",
       "    <tr>\n",
       "      <th>Trans Fat (g)</th>\n",
       "      <td>2.4</td>\n",
       "      <td>0.6</td>\n",
       "      <td>17.2</td>\n",
       "      <td>Caramel Corn Pretzel Cookies</td>\n",
       "    </tr>\n",
       "    <tr>\n",
       "      <th>Cholesterol (mg)</th>\n",
       "      <td>1356.9</td>\n",
       "      <td>406.4</td>\n",
       "      <td>9696.2</td>\n",
       "      <td>New England-Style Clam Chowder</td>\n",
       "    </tr>\n",
       "    <tr>\n",
       "      <th>Sodium (mg)</th>\n",
       "      <td>7059.3</td>\n",
       "      <td>5220.0</td>\n",
       "      <td>41314.0</td>\n",
       "      <td>Cold Minted Pea and Buttermilk Soup</td>\n",
       "    </tr>\n",
       "    <tr>\n",
       "      <th>Total Carbohydrate (g)</th>\n",
       "      <td>486.5</td>\n",
       "      <td>363.7</td>\n",
       "      <td>2215.4</td>\n",
       "      <td>Coconut Shrimp</td>\n",
       "    </tr>\n",
       "    <tr>\n",
       "      <th>Dietary Fiber (g)</th>\n",
       "      <td>52.7</td>\n",
       "      <td>38.4</td>\n",
       "      <td>252.5</td>\n",
       "      <td>Chocolate Bread Pudding</td>\n",
       "    </tr>\n",
       "    <tr>\n",
       "      <th>Sugars (g)</th>\n",
       "      <td>163.1</td>\n",
       "      <td>84.3</td>\n",
       "      <td>960.4</td>\n",
       "      <td>Lime Angel Food Cake with Lime Glaze and Pista...</td>\n",
       "    </tr>\n",
       "    <tr>\n",
       "      <th>Protein (g)</th>\n",
       "      <td>167.3</td>\n",
       "      <td>128.4</td>\n",
       "      <td>777.2</td>\n",
       "      <td>Paprika Chicken Schnitzel with Fried Eggs (Hol...</td>\n",
       "    </tr>\n",
       "    <tr>\n",
       "      <th>Vitamin A (IU)</th>\n",
       "      <td>17927.1</td>\n",
       "      <td>9801.3</td>\n",
       "      <td>114769.3</td>\n",
       "      <td>Slow-Roasted Chicken with Honey-Glazed Carrots</td>\n",
       "    </tr>\n",
       "    <tr>\n",
       "      <th>Vitamin C (mg)</th>\n",
       "      <td>247.4</td>\n",
       "      <td>120.6</td>\n",
       "      <td>1560.0</td>\n",
       "      <td>Chicken and Pork Lau Lau</td>\n",
       "    </tr>\n",
       "    <tr>\n",
       "      <th>Calcium (mg)</th>\n",
       "      <td>1981.0</td>\n",
       "      <td>1433.7</td>\n",
       "      <td>9380.5</td>\n",
       "      <td>Grilled Shrimp with Mango-Orange Quinoa and Co...</td>\n",
       "    </tr>\n",
       "    <tr>\n",
       "      <th>Iron (mg)</th>\n",
       "      <td>36.5</td>\n",
       "      <td>28.3</td>\n",
       "      <td>161.7</td>\n",
       "      <td>Yellow Layer Cake with Chocolate-Sour Cream Fr...</td>\n",
       "    </tr>\n",
       "  </tbody>\n",
       "</table>\n",
       "</div>"
      ],
      "text/plain": [
       "                           Mean  Median       Max  \\\n",
       "Nutrition                                           \n",
       "Calories (kcal)          4681.8  3730.0   19546.2   \n",
       "Total Fat (g)             223.7   163.4    1065.6   \n",
       "Saturated Fat (g)          85.1    53.6     461.5   \n",
       "Trans Fat (g)               2.4     0.6      17.2   \n",
       "Cholesterol (mg)         1356.9   406.4    9696.2   \n",
       "Sodium (mg)              7059.3  5220.0   41314.0   \n",
       "Total Carbohydrate (g)    486.5   363.7    2215.4   \n",
       "Dietary Fiber (g)          52.7    38.4     252.5   \n",
       "Sugars (g)                163.1    84.3     960.4   \n",
       "Protein (g)               167.3   128.4     777.2   \n",
       "Vitamin A (IU)          17927.1  9801.3  114769.3   \n",
       "Vitamin C (mg)            247.4   120.6    1560.0   \n",
       "Calcium (mg)             1981.0  1433.7    9380.5   \n",
       "Iron (mg)                  36.5    28.3     161.7   \n",
       "\n",
       "                                                               Max Recipe  \n",
       "Nutrition                                                                  \n",
       "Calories (kcal)                               Chocolate Oreo Whoopie Pies  \n",
       "Total Fat (g)                                                 Banana Bars  \n",
       "Saturated Fat (g)         Bubble and Squeak with Sausages and Onion Gravy  \n",
       "Trans Fat (g)                                Caramel Corn Pretzel Cookies  \n",
       "Cholesterol (mg)                           New England-Style Clam Chowder  \n",
       "Sodium (mg)                          Cold Minted Pea and Buttermilk Soup   \n",
       "Total Carbohydrate (g)                                     Coconut Shrimp  \n",
       "Dietary Fiber (g)                                 Chocolate Bread Pudding  \n",
       "Sugars (g)              Lime Angel Food Cake with Lime Glaze and Pista...  \n",
       "Protein (g)             Paprika Chicken Schnitzel with Fried Eggs (Hol...  \n",
       "Vitamin A (IU)             Slow-Roasted Chicken with Honey-Glazed Carrots  \n",
       "Vitamin C (mg)                                   Chicken and Pork Lau Lau  \n",
       "Calcium (mg)            Grilled Shrimp with Mango-Orange Quinoa and Co...  \n",
       "Iron (mg)               Yellow Layer Cake with Chocolate-Sour Cream Fr...  "
      ]
     },
     "execution_count": 1,
     "metadata": {},
     "output_type": "execute_result"
    }
   ],
   "source": [
    "# Analysis tools imported from python script in repository\n",
    "from NS_analysis import *\n",
    "\n",
    "# Analytics by Recipe\n",
    "RecipeAnalyze(analysis=True)"
   ]
  },
  {
   "cell_type": "code",
   "execution_count": 2,
   "metadata": {
    "scrolled": true
   },
   "outputs": [
    {
     "data": {
      "text/html": [
       "<div>\n",
       "<style scoped>\n",
       "    .dataframe tbody tr th:only-of-type {\n",
       "        vertical-align: middle;\n",
       "    }\n",
       "\n",
       "    .dataframe tbody tr th {\n",
       "        vertical-align: top;\n",
       "    }\n",
       "\n",
       "    .dataframe thead th {\n",
       "        text-align: right;\n",
       "    }\n",
       "</style>\n",
       "<table border=\"1\" class=\"dataframe\">\n",
       "  <thead>\n",
       "    <tr style=\"text-align: right;\">\n",
       "      <th></th>\n",
       "      <th>Mean</th>\n",
       "      <th>Median</th>\n",
       "      <th>Max</th>\n",
       "      <th>Max Ingredient</th>\n",
       "    </tr>\n",
       "    <tr>\n",
       "      <th>Nutrition</th>\n",
       "      <th></th>\n",
       "      <th></th>\n",
       "      <th></th>\n",
       "      <th></th>\n",
       "    </tr>\n",
       "  </thead>\n",
       "  <tbody>\n",
       "    <tr>\n",
       "      <th>Calories (kcal)</th>\n",
       "      <td>353.077330</td>\n",
       "      <td>159.30000</td>\n",
       "      <td>2220.0000</td>\n",
       "      <td>3 dried Chinese mushrooms, soaked in warm wate...</td>\n",
       "    </tr>\n",
       "    <tr>\n",
       "      <th>Total Fat (g)</th>\n",
       "      <td>11.823488</td>\n",
       "      <td>1.62500</td>\n",
       "      <td>94.5200</td>\n",
       "      <td>A dab of butter</td>\n",
       "    </tr>\n",
       "    <tr>\n",
       "      <th>Saturated Fat (g)</th>\n",
       "      <td>3.182527</td>\n",
       "      <td>0.28500</td>\n",
       "      <td>30.5625</td>\n",
       "      <td>2 1/2 tablespoons vegetable oil</td>\n",
       "    </tr>\n",
       "    <tr>\n",
       "      <th>Trans Fat (g)</th>\n",
       "      <td>0.199130</td>\n",
       "      <td>0.12920</td>\n",
       "      <td>0.6460</td>\n",
       "      <td>5 medium free-range eggs</td>\n",
       "    </tr>\n",
       "    <tr>\n",
       "      <th>Cholesterol (mg)</th>\n",
       "      <td>57.198258</td>\n",
       "      <td>49.84000</td>\n",
       "      <td>172.5000</td>\n",
       "      <td>250g/8¾oz fresh young goats' cheese</td>\n",
       "    </tr>\n",
       "    <tr>\n",
       "      <th>Sodium (mg)</th>\n",
       "      <td>285.525522</td>\n",
       "      <td>30.00000</td>\n",
       "      <td>2612.0000</td>\n",
       "      <td>400g/14oz strong cheddar, grated</td>\n",
       "    </tr>\n",
       "    <tr>\n",
       "      <th>Total Carbohydrate (g)</th>\n",
       "      <td>30.308622</td>\n",
       "      <td>10.68750</td>\n",
       "      <td>205.2500</td>\n",
       "      <td>1 ciabatta loaf, cut into two horizontally the...</td>\n",
       "    </tr>\n",
       "    <tr>\n",
       "      <th>Dietary Fiber (g)</th>\n",
       "      <td>4.689192</td>\n",
       "      <td>2.97000</td>\n",
       "      <td>21.2500</td>\n",
       "      <td>5-6 juniper berries, crushed in pestle and mortar</td>\n",
       "    </tr>\n",
       "    <tr>\n",
       "      <th>Sugars (g)</th>\n",
       "      <td>8.215546</td>\n",
       "      <td>2.26796</td>\n",
       "      <td>62.7648</td>\n",
       "      <td>3 ounces molasses</td>\n",
       "    </tr>\n",
       "    <tr>\n",
       "      <th>Protein (g)</th>\n",
       "      <td>8.390633</td>\n",
       "      <td>2.32425</td>\n",
       "      <td>64.5625</td>\n",
       "      <td>2 1/2 cups all purpose flour</td>\n",
       "    </tr>\n",
       "    <tr>\n",
       "      <th>Vitamin A (IU)</th>\n",
       "      <td>839.390086</td>\n",
       "      <td>165.00000</td>\n",
       "      <td>5622.7500</td>\n",
       "      <td>225g/8oz butter, softened</td>\n",
       "    </tr>\n",
       "    <tr>\n",
       "      <th>Vitamin C (mg)</th>\n",
       "      <td>10.817616</td>\n",
       "      <td>4.22400</td>\n",
       "      <td>65.6250</td>\n",
       "      <td>1 1/4 cups (about 6 ounces) frozen blackberries</td>\n",
       "    </tr>\n",
       "    <tr>\n",
       "      <th>Calcium (mg)</th>\n",
       "      <td>107.632249</td>\n",
       "      <td>40.00000</td>\n",
       "      <td>822.5000</td>\n",
       "      <td>7 cups chopped broccoli</td>\n",
       "    </tr>\n",
       "    <tr>\n",
       "      <th>Iron (mg)</th>\n",
       "      <td>2.045497</td>\n",
       "      <td>0.70840</td>\n",
       "      <td>14.8400</td>\n",
       "      <td>4 large soft whole grain rolls, toasted</td>\n",
       "    </tr>\n",
       "  </tbody>\n",
       "</table>\n",
       "</div>"
      ],
      "text/plain": [
       "                              Mean     Median        Max  \\\n",
       "Nutrition                                                  \n",
       "Calories (kcal)         353.077330  159.30000  2220.0000   \n",
       "Total Fat (g)            11.823488    1.62500    94.5200   \n",
       "Saturated Fat (g)         3.182527    0.28500    30.5625   \n",
       "Trans Fat (g)             0.199130    0.12920     0.6460   \n",
       "Cholesterol (mg)         57.198258   49.84000   172.5000   \n",
       "Sodium (mg)             285.525522   30.00000  2612.0000   \n",
       "Total Carbohydrate (g)   30.308622   10.68750   205.2500   \n",
       "Dietary Fiber (g)         4.689192    2.97000    21.2500   \n",
       "Sugars (g)                8.215546    2.26796    62.7648   \n",
       "Protein (g)               8.390633    2.32425    64.5625   \n",
       "Vitamin A (IU)          839.390086  165.00000  5622.7500   \n",
       "Vitamin C (mg)           10.817616    4.22400    65.6250   \n",
       "Calcium (mg)            107.632249   40.00000   822.5000   \n",
       "Iron (mg)                 2.045497    0.70840    14.8400   \n",
       "\n",
       "                                                           Max Ingredient  \n",
       "Nutrition                                                                  \n",
       "Calories (kcal)         3 dried Chinese mushrooms, soaked in warm wate...  \n",
       "Total Fat (g)                                             A dab of butter  \n",
       "Saturated Fat (g)                         2 1/2 tablespoons vegetable oil  \n",
       "Trans Fat (g)                                    5 medium free-range eggs  \n",
       "Cholesterol (mg)                      250g/8¾oz fresh young goats' cheese  \n",
       "Sodium (mg)                              400g/14oz strong cheddar, grated  \n",
       "Total Carbohydrate (g)  1 ciabatta loaf, cut into two horizontally the...  \n",
       "Dietary Fiber (g)       5-6 juniper berries, crushed in pestle and mortar  \n",
       "Sugars (g)                                              3 ounces molasses  \n",
       "Protein (g)                                  2 1/2 cups all purpose flour  \n",
       "Vitamin A (IU)                                  225g/8oz butter, softened  \n",
       "Vitamin C (mg)            1 1/4 cups (about 6 ounces) frozen blackberries  \n",
       "Calcium (mg)                                      7 cups chopped broccoli  \n",
       "Iron (mg)                         4 large soft whole grain rolls, toasted  "
      ]
     },
     "execution_count": 2,
     "metadata": {},
     "output_type": "execute_result"
    }
   ],
   "source": [
    "# Analytics by Ingredient\n",
    "IngredientAnalyze(analysis=True)"
   ]
  },
  {
   "cell_type": "code",
   "execution_count": 3,
   "metadata": {
    "scrolled": true
   },
   "outputs": [
    {
     "name": "stdout",
     "output_type": "stream",
     "text": [
      "Here are some fun facts about our processed data!\n",
      "\n",
      "Pounds of butter: 9,521 \n",
      "\n",
      "Feet of sausage: 2668 \n",
      "\n",
      "All of our scraped recipes would feed 252,043 people for 1 day (based on 2,000 Cal diet).\n",
      "For one individual, that would take 691 years to eat!\n",
      "\n",
      "Our recipes contain a 253 year supply of protein for a bodybuilder!\n",
      "\n",
      "Enough garlic to kill 26,381 vampires.\n",
      "\n"
     ]
    }
   ],
   "source": [
    "# Fun Facts\n",
    "Factoids()"
   ]
  },
  {
   "cell_type": "markdown",
   "metadata": {},
   "source": [
    "## Visualization"
   ]
  },
  {
   "cell_type": "markdown",
   "metadata": {},
   "source": [
    "### 1. Web Scraping"
   ]
  },
  {
   "cell_type": "markdown",
   "metadata": {},
   "source": [
    "### 2. USDA Nutrition"
   ]
  },
  {
   "cell_type": "markdown",
   "metadata": {},
   "source": [
    "**Analysis**  \n",
    "Below are boxen-style plots showing the data grouped by recipe and by ingredient. The plots demonstrate the shape of the distribution for each nutrient, as well as its variation.  \n",
    "<br>\n",
    "The plots show that the tendency of the data for each nutrient factor are skewed to the left and closer to 0 than the extremes. In the context of food items and recipes, this makes sense because most foods will have a relatively low average, but occassionally there are foods containing an extreme of a given nutrient. Foods with a low extreme will be closer to the average, since most foods do not have an extreme of any individual nutrient. Also, due to errors in quantity and weight parsing, there are cases in which a food or recipe has exaggerated nutrient values.  \n",
    "<br>\n",
    "Outliers were handled in the _\"Stats and Interpretation\"_ block above. We determined that anything 1.5 interquantile ranges below quantile 0.15 or above quantile 0.85 were outliers, most likely due to parsing errors of quantity and/or weight. When 0.25 and 0.75 were used as quantiles, it removed too many candidates, therefore we adjusted our quantiles to be more inclusive."
   ]
  },
  {
   "cell_type": "code",
   "execution_count": 4,
   "metadata": {},
   "outputs": [
    {
     "name": "stderr",
     "output_type": "stream",
     "text": [
      "'c' argument looks like a single numeric RGB or RGBA sequence, which should be avoided as value-mapping will have precedence in case its length matches with 'x' & 'y'.  Please use a 2-D array with a single row if you really want to specify the same RGB or RGBA value for all points.\n",
      "'c' argument looks like a single numeric RGB or RGBA sequence, which should be avoided as value-mapping will have precedence in case its length matches with 'x' & 'y'.  Please use a 2-D array with a single row if you really want to specify the same RGB or RGBA value for all points.\n",
      "'c' argument looks like a single numeric RGB or RGBA sequence, which should be avoided as value-mapping will have precedence in case its length matches with 'x' & 'y'.  Please use a 2-D array with a single row if you really want to specify the same RGB or RGBA value for all points.\n",
      "'c' argument looks like a single numeric RGB or RGBA sequence, which should be avoided as value-mapping will have precedence in case its length matches with 'x' & 'y'.  Please use a 2-D array with a single row if you really want to specify the same RGB or RGBA value for all points.\n",
      "'c' argument looks like a single numeric RGB or RGBA sequence, which should be avoided as value-mapping will have precedence in case its length matches with 'x' & 'y'.  Please use a 2-D array with a single row if you really want to specify the same RGB or RGBA value for all points.\n",
      "'c' argument looks like a single numeric RGB or RGBA sequence, which should be avoided as value-mapping will have precedence in case its length matches with 'x' & 'y'.  Please use a 2-D array with a single row if you really want to specify the same RGB or RGBA value for all points.\n",
      "'c' argument looks like a single numeric RGB or RGBA sequence, which should be avoided as value-mapping will have precedence in case its length matches with 'x' & 'y'.  Please use a 2-D array with a single row if you really want to specify the same RGB or RGBA value for all points.\n",
      "'c' argument looks like a single numeric RGB or RGBA sequence, which should be avoided as value-mapping will have precedence in case its length matches with 'x' & 'y'.  Please use a 2-D array with a single row if you really want to specify the same RGB or RGBA value for all points.\n",
      "'c' argument looks like a single numeric RGB or RGBA sequence, which should be avoided as value-mapping will have precedence in case its length matches with 'x' & 'y'.  Please use a 2-D array with a single row if you really want to specify the same RGB or RGBA value for all points.\n",
      "'c' argument looks like a single numeric RGB or RGBA sequence, which should be avoided as value-mapping will have precedence in case its length matches with 'x' & 'y'.  Please use a 2-D array with a single row if you really want to specify the same RGB or RGBA value for all points.\n",
      "'c' argument looks like a single numeric RGB or RGBA sequence, which should be avoided as value-mapping will have precedence in case its length matches with 'x' & 'y'.  Please use a 2-D array with a single row if you really want to specify the same RGB or RGBA value for all points.\n",
      "'c' argument looks like a single numeric RGB or RGBA sequence, which should be avoided as value-mapping will have precedence in case its length matches with 'x' & 'y'.  Please use a 2-D array with a single row if you really want to specify the same RGB or RGBA value for all points.\n",
      "'c' argument looks like a single numeric RGB or RGBA sequence, which should be avoided as value-mapping will have precedence in case its length matches with 'x' & 'y'.  Please use a 2-D array with a single row if you really want to specify the same RGB or RGBA value for all points.\n",
      "'c' argument looks like a single numeric RGB or RGBA sequence, which should be avoided as value-mapping will have precedence in case its length matches with 'x' & 'y'.  Please use a 2-D array with a single row if you really want to specify the same RGB or RGBA value for all points.\n"
     ]
    },
    {
     "data": {
      "text/plain": [
       "'Plotting complete!'"
      ]
     },
     "execution_count": 4,
     "metadata": {},
     "output_type": "execute_result"
    },
    {
     "data": {
      "image/png": "[encoded data removed]",
      "text/plain": [
       "<Figure size 360x360 with 1 Axes>"
      ]
     },
     "metadata": {
      "needs_background": "light"
     },
     "output_type": "display_data"
    },
    {
     "data": {
      "image/png": "[encoded data removed]",
      "text/plain": [
       "<Figure size 360x360 with 1 Axes>"
      ]
     },
     "metadata": {
      "needs_background": "light"
     },
     "output_type": "display_data"
    },
    {
     "data": {
      "image/png": "[encoded data removed]",
      "text/plain": [
       "<Figure size 360x360 with 1 Axes>"
      ]
     },
     "metadata": {
      "needs_background": "light"
     },
     "output_type": "display_data"
    },
    {
     "data": {
      "image/png": "[encoded data removed]",
      "text/plain": [
       "<Figure size 360x360 with 1 Axes>"
      ]
     },
     "metadata": {
      "needs_background": "light"
     },
     "output_type": "display_data"
    },
    {
     "data": {
      "image/png": "[encoded data removed]",
      "text/plain": [
       "<Figure size 360x360 with 1 Axes>"
      ]
     },
     "metadata": {
      "needs_background": "light"
     },
     "output_type": "display_data"
    },
    {
     "data": {
      "image/png": "[encoded data removed]",
      "text/plain": [
       "<Figure size 360x360 with 1 Axes>"
      ]
     },
     "metadata": {
      "needs_background": "light"
     },
     "output_type": "display_data"
    },
    {
     "data": {
      "image/png": "[encoded data removed]",
      "text/plain": [
       "<Figure size 360x360 with 1 Axes>"
      ]
     },
     "metadata": {
      "needs_background": "light"
     },
     "output_type": "display_data"
    },
    {
     "data": {
      "image/png": "[encoded data removed]",
      "text/plain": [
       "<Figure size 360x360 with 1 Axes>"
      ]
     },
     "metadata": {
      "needs_background": "light"
     },
     "output_type": "display_data"
    },
    {
     "data": {
      "image/png": "[encoded data removed]",
      "text/plain": [
       "<Figure size 360x360 with 1 Axes>"
      ]
     },
     "metadata": {
      "needs_background": "light"
     },
     "output_type": "display_data"
    },
    {
     "data": {
      "image/png": "[encoded data removed]",
      "text/plain": [
       "<Figure size 360x360 with 1 Axes>"
      ]
     },
     "metadata": {
      "needs_background": "light"
     },
     "output_type": "display_data"
    },
    {
     "data": {
      "image/png": "[encoded data removed]",
      "text/plain": [
       "<Figure size 360x360 with 1 Axes>"
      ]
     },
     "metadata": {
      "needs_background": "light"
     },
     "output_type": "display_data"
    },
    {
     "data": {
      "image/png": "[encoded data removed]",
      "text/plain": [
       "<Figure size 360x360 with 1 Axes>"
      ]
     },
     "metadata": {
      "needs_background": "light"
     },
     "output_type": "display_data"
    },
    {
     "data": {
      "image/png": "[encoded data removed]",
      "text/plain": [
       "<Figure size 360x360 with 1 Axes>"
      ]
     },
     "metadata": {
      "needs_background": "light"
     },
     "output_type": "display_data"
    },
    {
     "data": {
      "image/png": "[encoded data removed]",
      "text/plain": [
       "<Figure size 360x360 with 1 Axes>"
      ]
     },
     "metadata": {
      "needs_background": "light"
     },
     "output_type": "display_data"
    }
   ],
   "source": [
    "# Visualization by Recipe\n",
    "RecipeAnalyze(plot=True)"
   ]
  },
  {
   "cell_type": "code",
   "execution_count": 5,
   "metadata": {},
   "outputs": [
    {
     "name": "stderr",
     "output_type": "stream",
     "text": [
      "'c' argument looks like a single numeric RGB or RGBA sequence, which should be avoided as value-mapping will have precedence in case its length matches with 'x' & 'y'.  Please use a 2-D array with a single row if you really want to specify the same RGB or RGBA value for all points.\n",
      "'c' argument looks like a single numeric RGB or RGBA sequence, which should be avoided as value-mapping will have precedence in case its length matches with 'x' & 'y'.  Please use a 2-D array with a single row if you really want to specify the same RGB or RGBA value for all points.\n",
      "'c' argument looks like a single numeric RGB or RGBA sequence, which should be avoided as value-mapping will have precedence in case its length matches with 'x' & 'y'.  Please use a 2-D array with a single row if you really want to specify the same RGB or RGBA value for all points.\n",
      "'c' argument looks like a single numeric RGB or RGBA sequence, which should be avoided as value-mapping will have precedence in case its length matches with 'x' & 'y'.  Please use a 2-D array with a single row if you really want to specify the same RGB or RGBA value for all points.\n",
      "'c' argument looks like a single numeric RGB or RGBA sequence, which should be avoided as value-mapping will have precedence in case its length matches with 'x' & 'y'.  Please use a 2-D array with a single row if you really want to specify the same RGB or RGBA value for all points.\n",
      "'c' argument looks like a single numeric RGB or RGBA sequence, which should be avoided as value-mapping will have precedence in case its length matches with 'x' & 'y'.  Please use a 2-D array with a single row if you really want to specify the same RGB or RGBA value for all points.\n",
      "'c' argument looks like a single numeric RGB or RGBA sequence, which should be avoided as value-mapping will have precedence in case its length matches with 'x' & 'y'.  Please use a 2-D array with a single row if you really want to specify the same RGB or RGBA value for all points.\n",
      "'c' argument looks like a single numeric RGB or RGBA sequence, which should be avoided as value-mapping will have precedence in case its length matches with 'x' & 'y'.  Please use a 2-D array with a single row if you really want to specify the same RGB or RGBA value for all points.\n",
      "'c' argument looks like a single numeric RGB or RGBA sequence, which should be avoided as value-mapping will have precedence in case its length matches with 'x' & 'y'.  Please use a 2-D array with a single row if you really want to specify the same RGB or RGBA value for all points.\n",
      "'c' argument looks like a single numeric RGB or RGBA sequence, which should be avoided as value-mapping will have precedence in case its length matches with 'x' & 'y'.  Please use a 2-D array with a single row if you really want to specify the same RGB or RGBA value for all points.\n",
      "'c' argument looks like a single numeric RGB or RGBA sequence, which should be avoided as value-mapping will have precedence in case its length matches with 'x' & 'y'.  Please use a 2-D array with a single row if you really want to specify the same RGB or RGBA value for all points.\n",
      "'c' argument looks like a single numeric RGB or RGBA sequence, which should be avoided as value-mapping will have precedence in case its length matches with 'x' & 'y'.  Please use a 2-D array with a single row if you really want to specify the same RGB or RGBA value for all points.\n",
      "'c' argument looks like a single numeric RGB or RGBA sequence, which should be avoided as value-mapping will have precedence in case its length matches with 'x' & 'y'.  Please use a 2-D array with a single row if you really want to specify the same RGB or RGBA value for all points.\n",
      "'c' argument looks like a single numeric RGB or RGBA sequence, which should be avoided as value-mapping will have precedence in case its length matches with 'x' & 'y'.  Please use a 2-D array with a single row if you really want to specify the same RGB or RGBA value for all points.\n"
     ]
    },
    {
     "data": {
      "text/plain": [
       "'Plotting complete!'"
      ]
     },
     "execution_count": 5,
     "metadata": {},
     "output_type": "execute_result"
    },
    {
     "data": {
      "image/png": "[encoded data removed]",
      "text/plain": [
       "<Figure size 360x360 with 1 Axes>"
      ]
     },
     "metadata": {
      "needs_background": "light"
     },
     "output_type": "display_data"
    },
    {
     "data": {
      "image/png": "[encoded data removed]",
      "text/plain": [
       "<Figure size 360x360 with 1 Axes>"
      ]
     },
     "metadata": {
      "needs_background": "light"
     },
     "output_type": "display_data"
    },
    {
     "data": {
      "image/png": "[encoded data removed]",
      "text/plain": [
       "<Figure size 360x360 with 1 Axes>"
      ]
     },
     "metadata": {
      "needs_background": "light"
     },
     "output_type": "display_data"
    },
    {
     "data": {
      "image/png": "[encoded data removed]",
      "text/plain": [
       "<Figure size 360x360 with 1 Axes>"
      ]
     },
     "metadata": {
      "needs_background": "light"
     },
     "output_type": "display_data"
    },
    {
     "data": {
      "image/png": "[encoded data removed]",
      "text/plain": [
       "<Figure size 360x360 with 1 Axes>"
      ]
     },
     "metadata": {
      "needs_background": "light"
     },
     "output_type": "display_data"
    },
    {
     "data": {
      "image/png": "[encoded data removed]",
      "text/plain": [
       "<Figure size 360x360 with 1 Axes>"
      ]
     },
     "metadata": {
      "needs_background": "light"
     },
     "output_type": "display_data"
    },
    {
     "data": {
      "image/png": "[encoded data removed]",
      "text/plain": [
       "<Figure size 360x360 with 1 Axes>"
      ]
     },
     "metadata": {
      "needs_background": "light"
     },
     "output_type": "display_data"
    },
    {
     "data": {
      "image/png": "[encoded data removed]",
      "text/plain": [
       "<Figure size 360x360 with 1 Axes>"
      ]
     },
     "metadata": {
      "needs_background": "light"
     },
     "output_type": "display_data"
    },
    {
     "data": {
      "image/png": "[encoded data removed]",
      "text/plain": [
       "<Figure size 360x360 with 1 Axes>"
      ]
     },
     "metadata": {
      "needs_background": "light"
     },
     "output_type": "display_data"
    },
    {
     "data": {
      "image/png": "[encoded data removed]",
      "text/plain": [
       "<Figure size 360x360 with 1 Axes>"
      ]
     },
     "metadata": {
      "needs_background": "light"
     },
     "output_type": "display_data"
    },
    {
     "data": {
      "image/png": "[encoded data removed]",
      "text/plain": [
       "<Figure size 360x360 with 1 Axes>"
      ]
     },
     "metadata": {
      "needs_background": "light"
     },
     "output_type": "display_data"
    },
    {
     "data": {
      "image/png": "[encoded data removed]",
      "text/plain": [
       "<Figure size 360x360 with 1 Axes>"
      ]
     },
     "metadata": {
      "needs_background": "light"
     },
     "output_type": "display_data"
    },
    {
     "data": {
      "image/png": "[encoded data removed]",
      "text/plain": [
       "<Figure size 360x360 with 1 Axes>"
      ]
     },
     "metadata": {
      "needs_background": "light"
     },
     "output_type": "display_data"
    },
    {
     "data": {
      "image/png": "[encoded data removed]",
      "text/plain": [
       "<Figure size 360x360 with 1 Axes>"
      ]
     },
     "metadata": {
      "needs_background": "light"
     },
     "output_type": "display_data"
    }
   ],
   "source": [
    "# Visualization by Ingredient\n",
    "IngredientAnalyze(plot=True)"
   ]
  }
 ],
 "metadata": {
  "kernelspec": {
   "display_name": "Python 3",
   "language": "python",
   "name": "python3"
  },
  "language_info": {
   "codemirror_mode": {
    "name": "ipython",
    "version": 3
   },
   "file_extension": ".py",
   "mimetype": "text/x-python",
   "name": "python",
   "nbconvert_exporter": "python",
   "pygments_lexer": "ipython3",
   "version": "3.7.0"
  }
 },
 "nbformat": 4,
 "nbformat_minor": 2
}
