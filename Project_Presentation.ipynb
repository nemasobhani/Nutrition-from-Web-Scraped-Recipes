{
 "cells": [
  {
   "cell_type": "markdown",
   "metadata": {},
   "source": [
    "# NUTRITION FROM WEB-SCRAPED RECIPES\n",
    "\n",
    "<><><> PICTURE <><><>"
   ]
  },
  {
   "cell_type": "markdown",
   "metadata": {},
   "source": [
    "# DATASET AND MOTIVATION\n",
    "**How**  \n",
    "This data set was collected from web scraping a selection of online cooking websites and associating their ingredients with nutrition data from the USDA's Nutrient Data Library.\n",
    "\n",
    "**Why**  \n",
    "We thought that this project presented a pop-culture focus, demonstrated some proof-of-concept potential in nutritional health and research, and was both challenging and fun.\n",
    "\n",
    "**Meta Data**\n",
    "- Scraped Data\n",
    "    - BeautifulSoup and open source recipe scraping code\n",
    "    - 155,876 recipes with url, recipe title, total time, and each ingredient as a separate column\n",
    "\n",
    "- USDA Nutrition Data \n",
    "    - Most major food items in the American diet\n",
    "    - Common nutrition markers and experimental/analytic data"
   ]
  },
  {
   "cell_type": "markdown",
   "metadata": {},
   "source": [
    "# RESEARCH QUESTIONS  \n",
    "<br>  \n",
    "**PROBLEM**: Nutritional information not widely available on recipe websites. This automated process would enable websites to offer that information to consumers and create a better user experience.\n",
    "<br>  \n",
    "**INPUT**: Raw web-scraped recipe data.\n",
    "<br>  \n",
    "**OUTPUT**: USDA nutritional information.\n",
    "\n",
    "<><><> PICTURE <><><>"
   ]
  },
  {
   "cell_type": "markdown",
   "metadata": {},
   "source": [
    "# DATA CLEANING/TRANSFORMATION"
   ]
  },
  {
   "cell_type": "markdown",
   "metadata": {},
   "source": [
    "### RECIPE WEB-SCRAPING\n",
    "\n",
    "blah"
   ]
  },
  {
   "cell_type": "markdown",
   "metadata": {},
   "source": [
    "### USDA Nutrient Parsing\n",
    "\n",
    "- Parsing quantity and weight information using keywords\n",
    "    - Differentiating unique unicode characters such as '½' and accounting for every numeric combination to indicate quantity and weight.\n",
    "- Removal of stop words\n",
    "- Truncation of ingredient to match in USDA name file\n",
    "    - Which heuristic to use?\n",
    "        - Highest number of matches?\n",
    "        - Lowest number of words?\n",
    "        - **_\"The correct item is the one that (1) contains the highest number of matches and (2) has the shortest length if the there is a tie of the highest number of matches.\"_**"
   ]
  },
  {
   "cell_type": "markdown",
   "metadata": {},
   "source": [
    "### USDA Nutrient Parsing (Unusual Incidents)  \n",
    "There were many edge cases that come up in parsing numeric descriptors. Two, six and a half ounce steaks may be written in many ways. For example:\n",
    "- 2 6 1/2 ounce steaks\n",
    "- 2, 6½ ounce steaks\n",
    "- 2 6 ½ oz. steaks  \n",
    "\n",
    "Making sure you don't end up with 26 steaks or 2 ounces of steak required EDGE CASES GALORE.\n",
    "<br>  \n",
    "Often there would be an incorrect match that satisfies the heuristic proprties. For example, _\"1 clove of garlic\"_ may either match with _\"garlic, raw\"_ or _\"clove, spice\"_ in the USDA nutrition databse, leading to a possible error."
   ]
  },
  {
   "cell_type": "markdown",
   "metadata": {},
   "source": [
    "# DEMONSTRATION"
   ]
  },
  {
   "cell_type": "code",
   "execution_count": 1,
   "metadata": {},
   "outputs": [
    {
     "name": "stdout",
     "output_type": "stream",
     "text": [
      "﻿https://www.bonappetit.com/recipe/rack-of-venison-stuffed-with-pecans-currants-sausage-and-pears,\"Rack of Venison Stuffed with Pecans, Currants, Sausage, and Pears\",0,\"5 tablespoons olive oil, divided\",1 cup chopped onion,\"4 ounces sweet Italian sausages, casings removed\",Roasted Bosc Pears,\"1/2 cup pecans, toasted\",1/3 cup dried currants,1 teaspoon chopped fresh rosemary,1,\"1 2 1/2-pound rack of venison, frenched ,\",1,\"2 medium onions, thinly sliced\",\"2 heads of garlic, cloves separated, root ends trimmed, unpeeled\",6 fresh rosemary sprigs,1 bunch fresh thyme,,,,,,,,,,,,,,,,,,,,,,,,,,,,,,,,,,,,,,,,,,,,,,,,,,,,,,,,,,,,,,,\n",
      "\n"
     ]
    },
    {
     "ename": "FileNotFoundError",
     "evalue": "[Errno 2] No such file or directory: 'USDA_Nutrition_DataSet/FOOD_DES.txt'",
     "output_type": "error",
     "traceback": [
      "\u001b[1;31m---------------------------------------------------------------------------\u001b[0m",
      "\u001b[1;31mFileNotFoundError\u001b[0m                         Traceback (most recent call last)",
      "\u001b[1;32m<ipython-input-1-05ec37a5bfc4>\u001b[0m in \u001b[0;36m<module>\u001b[1;34m\u001b[0m\n\u001b[0;32m      8\u001b[0m \u001b[1;32mfrom\u001b[0m \u001b[0mget_nutrition_demo\u001b[0m \u001b[1;32mimport\u001b[0m \u001b[1;33m*\u001b[0m\u001b[1;33m\u001b[0m\u001b[0m\n\u001b[0;32m      9\u001b[0m \u001b[1;33m\u001b[0m\u001b[0m\n\u001b[1;32m---> 10\u001b[1;33m \u001b[0mingredients_df\u001b[0m \u001b[1;33m=\u001b[0m \u001b[0mGetNutrition\u001b[0m\u001b[1;33m(\u001b[0m\u001b[1;34m\"recipe_output_demo.csv\"\u001b[0m\u001b[1;33m)\u001b[0m\u001b[1;33m\u001b[0m\u001b[0m\n\u001b[0m",
      "\u001b[1;32mX:\\Users\\Nemosaic\\Desktop\\get_nutrition_demo.py\u001b[0m in \u001b[0;36mGetNutrition\u001b[1;34m(file)\u001b[0m\n\u001b[0;32m    253\u001b[0m                 \u001b[0mBestMatch\u001b[0m \u001b[1;33m=\u001b[0m \u001b[1;33m[\u001b[0m\u001b[1;36m0\u001b[0m\u001b[1;33m,\u001b[0m \u001b[0mfloat\u001b[0m\u001b[1;33m(\u001b[0m\u001b[1;34m'inf'\u001b[0m\u001b[1;33m)\u001b[0m\u001b[1;33m,\u001b[0m \u001b[1;32mNone\u001b[0m\u001b[1;33m,\u001b[0m \u001b[0mFoodGroup\u001b[0m\u001b[1;33m]\u001b[0m\u001b[1;33m\u001b[0m\u001b[0m\n\u001b[0;32m    254\u001b[0m \u001b[1;33m\u001b[0m\u001b[0m\n\u001b[1;32m--> 255\u001b[1;33m                 \u001b[1;32mwith\u001b[0m \u001b[0mopen\u001b[0m\u001b[1;33m(\u001b[0m\u001b[1;34m'USDA_Nutrition_DataSet/FOOD_DES.txt'\u001b[0m\u001b[1;33m)\u001b[0m \u001b[1;32mas\u001b[0m \u001b[0mg\u001b[0m\u001b[1;33m:\u001b[0m\u001b[1;33m\u001b[0m\u001b[0m\n\u001b[0m\u001b[0;32m    256\u001b[0m                     \u001b[1;32mfor\u001b[0m \u001b[0mline\u001b[0m \u001b[1;32min\u001b[0m \u001b[0mg\u001b[0m\u001b[1;33m:\u001b[0m\u001b[1;33m\u001b[0m\u001b[0m\n\u001b[0;32m    257\u001b[0m                         \u001b[0mUSDA_desc\u001b[0m \u001b[1;33m=\u001b[0m \u001b[0mline\u001b[0m\u001b[1;33m.\u001b[0m\u001b[0mlower\u001b[0m\u001b[1;33m(\u001b[0m\u001b[1;33m)\u001b[0m\u001b[1;33m.\u001b[0m\u001b[0msplit\u001b[0m\u001b[1;33m(\u001b[0m\u001b[1;34m'~^~'\u001b[0m\u001b[1;33m)\u001b[0m\u001b[1;33m\u001b[0m\u001b[0m\n",
      "\u001b[1;31mFileNotFoundError\u001b[0m: [Errno 2] No such file or directory: 'USDA_Nutrition_DataSet/FOOD_DES.txt'"
     ]
    }
   ],
   "source": [
    "# Input scraped data\n",
    "# from bonappetit.com (\"Rack of Venison Stuffed with Pecans, Currants, Sausage, and Pears\")\n",
    "\n",
    "! curl -O https://raw.githubusercontent.com/nemasobhani/Nutrition-from-Web-Scraped-Recipes/master/get_nutrition_demo.py\n",
    "! curl -O https://raw.githubusercontent.com/nemasobhani/Nutrition-from-Web-Scraped-Recipes/master/get_nutrition_vars.py\n",
    "! curl -O https://raw.githubusercontent.com/nemasobhani/Nutrition-from-Web-Scraped-Recipes/master/recipe_output_demo.csv\n",
    "! curl -O https://raw.githubusercontent.com/nemasobhani/Nutrition-from-Web-Scraped-Recipes/master/USDA_Nutrition_DataSet/FOOD_DES.txt\n",
    "! curl -O https://raw.githubusercontent.com/nemasobhani/Nutrition-from-Web-Scraped-Recipes/master/USDA_Nutrition_DataSet/NUT_DATA.txt\n",
    "\n",
    "from get_nutrition_demo import *\n",
    "\n",
    "ingredients_df = GetNutrition(\"recipe_output_demo.csv\")"
   ]
  },
  {
   "cell_type": "code",
   "execution_count": 4,
   "metadata": {},
   "outputs": [],
   "source": [
    "import re\n",
    "# !pip install pandas"
   ]
  },
  {
   "cell_type": "code",
   "execution_count": null,
   "metadata": {},
   "outputs": [],
   "source": [
    "ingredients_df"
   ]
  },
  {
   "cell_type": "markdown",
   "metadata": {},
   "source": [
    "# STATISTICS"
   ]
  },
  {
   "cell_type": "code",
   "execution_count": null,
   "metadata": {},
   "outputs": [],
   "source": [
    "# WEB-SCRAPED RECIPES"
   ]
  },
  {
   "cell_type": "code",
   "execution_count": null,
   "metadata": {},
   "outputs": [],
   "source": [
    "# USDA NUTRITION BY RECIPE\n",
    "\n",
    "# Analysis tools imported from python script in repository\n",
    "! curl -O https://raw.githubusercontent.com/nemasobhani/Nutrition-from-Web-Scraped-Recipes/master/NS_analysis.py\n",
    "from NS_analysis import *\n",
    "\n",
    "# Stats by Recipe\n",
    "RecipeAnalyze(analysis=True)"
   ]
  },
  {
   "cell_type": "code",
   "execution_count": null,
   "metadata": {},
   "outputs": [],
   "source": [
    "# Stats by Ingredient\n",
    "IngredientAnalyze(analysis=True)"
   ]
  },
  {
   "cell_type": "code",
   "execution_count": null,
   "metadata": {},
   "outputs": [],
   "source": [
    "# Fun Facts\n",
    "Factoids()"
   ]
  },
  {
   "cell_type": "markdown",
   "metadata": {},
   "source": [
    "# VISUALIZATION"
   ]
  },
  {
   "cell_type": "code",
   "execution_count": null,
   "metadata": {},
   "outputs": [],
   "source": [
    "# FOR NAOMI!!!"
   ]
  },
  {
   "cell_type": "code",
   "execution_count": null,
   "metadata": {},
   "outputs": [],
   "source": [
    "# Nutrient Visualization by Recipe\n",
    "RecipeAnalyze(plot=True)"
   ]
  },
  {
   "cell_type": "code",
   "execution_count": null,
   "metadata": {},
   "outputs": [],
   "source": [
    "# Nutrient Visualization by Ingredient\n",
    "IngredientAnalyze(plot=True)"
   ]
  }
 ],
 "metadata": {
  "kernelspec": {
   "display_name": "Python 3",
   "language": "python",
   "name": "python3"
  },
  "language_info": {
   "codemirror_mode": {
    "name": "ipython",
    "version": 3
   },
   "file_extension": ".py",
   "mimetype": "text/x-python",
   "name": "python",
   "nbconvert_exporter": "python",
   "pygments_lexer": "ipython3",
   "version": "3.7.0"
  }
 },
 "nbformat": 4,
 "nbformat_minor": 2
}
